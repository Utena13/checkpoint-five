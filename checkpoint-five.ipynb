{
 "cells": [
  {
   "cell_type": "markdown",
   "metadata": {
    "azdata_cell_guid": "c9a57f69-e372-43d2-94fc-ab1a9097069f"
   },
   "source": [
    "# Checkpoint Five: Modeling Data\n",
    "\n",
    "With your visualizations ready to go, the final step in your project is to do some predictive analysis on your dataset. You will be using linear regression for your model. You will not be penalized if your linear regression model does not work out. You just need to build the model and make notes as to the results.\n",
    "\n",
    "Link to my dataset:\n",
    "\n",
    "## Prepare Your Dataframe\n",
    "\n",
    "Import any libraries you need and create a dataframe."
   ]
  },
  {
   "cell_type": "code",
   "execution_count": 1,
   "metadata": {
    "azdata_cell_guid": "f9287db4-8af9-4bce-9a54-ffeeee0e045f"
   },
   "outputs": [
    {
     "data": {
      "text/html": [
       "<div>\n",
       "<style scoped>\n",
       "    .dataframe tbody tr th:only-of-type {\n",
       "        vertical-align: middle;\n",
       "    }\n",
       "\n",
       "    .dataframe tbody tr th {\n",
       "        vertical-align: top;\n",
       "    }\n",
       "\n",
       "    .dataframe thead th {\n",
       "        text-align: right;\n",
       "    }\n",
       "</style>\n",
       "<table border=\"1\" class=\"dataframe\">\n",
       "  <thead>\n",
       "    <tr style=\"text-align: right;\">\n",
       "      <th></th>\n",
       "      <th>Unnamed: 0</th>\n",
       "      <th>id</th>\n",
       "      <th>intakedate</th>\n",
       "      <th>intakereason</th>\n",
       "      <th>sheltercode</th>\n",
       "      <th>breedname</th>\n",
       "      <th>basecolour</th>\n",
       "      <th>speciesname</th>\n",
       "      <th>animalage</th>\n",
       "      <th>sexname</th>\n",
       "      <th>location</th>\n",
       "      <th>movementdate</th>\n",
       "      <th>movementtype</th>\n",
       "      <th>difdays</th>\n",
       "    </tr>\n",
       "  </thead>\n",
       "  <tbody>\n",
       "    <tr>\n",
       "      <th>0</th>\n",
       "      <td>0</td>\n",
       "      <td>15801</td>\n",
       "      <td>2009-11-28 00:00:00</td>\n",
       "      <td>Moving</td>\n",
       "      <td>C09115463</td>\n",
       "      <td>Domestic Short Hair</td>\n",
       "      <td>Multi colours</td>\n",
       "      <td>Cat</td>\n",
       "      <td>9 years 2 months.</td>\n",
       "      <td>Female</td>\n",
       "      <td>Adoptable Cat Glass Colony</td>\n",
       "      <td>2017-05-13</td>\n",
       "      <td>Adoption</td>\n",
       "      <td>2723.000000</td>\n",
       "    </tr>\n",
       "    <tr>\n",
       "      <th>1</th>\n",
       "      <td>3</td>\n",
       "      <td>30812</td>\n",
       "      <td>2013-01-11 00:00:00</td>\n",
       "      <td>Abandoned</td>\n",
       "      <td>C1301091</td>\n",
       "      <td>Domestic Short Hair</td>\n",
       "      <td>Multi colours</td>\n",
       "      <td>Cat</td>\n",
       "      <td>8 years 11 months.</td>\n",
       "      <td>Female</td>\n",
       "      <td>Stray Cats</td>\n",
       "      <td>2017-04-18</td>\n",
       "      <td>Foster</td>\n",
       "      <td>1558.000000</td>\n",
       "    </tr>\n",
       "    <tr>\n",
       "      <th>2</th>\n",
       "      <td>4</td>\n",
       "      <td>30812</td>\n",
       "      <td>2013-01-11 00:00:00</td>\n",
       "      <td>Abandoned</td>\n",
       "      <td>C1301091</td>\n",
       "      <td>Domestic Short Hair</td>\n",
       "      <td>Multi colours</td>\n",
       "      <td>Cat</td>\n",
       "      <td>8 years 11 months.</td>\n",
       "      <td>Female</td>\n",
       "      <td>Stray Cats</td>\n",
       "      <td>2018-05-29</td>\n",
       "      <td>Adoption</td>\n",
       "      <td>1964.000000</td>\n",
       "    </tr>\n",
       "    <tr>\n",
       "      <th>3</th>\n",
       "      <td>12</td>\n",
       "      <td>46437</td>\n",
       "      <td>2016-10-26 00:00:00</td>\n",
       "      <td>Abandoned</td>\n",
       "      <td>C16103406</td>\n",
       "      <td>Domestic Long Hair</td>\n",
       "      <td>Black</td>\n",
       "      <td>Cat</td>\n",
       "      <td>12 years 3 months.</td>\n",
       "      <td>Female</td>\n",
       "      <td>Stray Cats</td>\n",
       "      <td>2017-03-25</td>\n",
       "      <td>Foster</td>\n",
       "      <td>150.000000</td>\n",
       "    </tr>\n",
       "    <tr>\n",
       "      <th>4</th>\n",
       "      <td>13</td>\n",
       "      <td>46437</td>\n",
       "      <td>2016-10-26 00:00:00</td>\n",
       "      <td>Abandoned</td>\n",
       "      <td>C16103406</td>\n",
       "      <td>Domestic Long Hair</td>\n",
       "      <td>Black</td>\n",
       "      <td>Cat</td>\n",
       "      <td>12 years 3 months.</td>\n",
       "      <td>Female</td>\n",
       "      <td>Stray Cats</td>\n",
       "      <td>2017-04-07</td>\n",
       "      <td>Adoption</td>\n",
       "      <td>163.000000</td>\n",
       "    </tr>\n",
       "    <tr>\n",
       "      <th>...</th>\n",
       "      <td>...</td>\n",
       "      <td>...</td>\n",
       "      <td>...</td>\n",
       "      <td>...</td>\n",
       "      <td>...</td>\n",
       "      <td>...</td>\n",
       "      <td>...</td>\n",
       "      <td>...</td>\n",
       "      <td>...</td>\n",
       "      <td>...</td>\n",
       "      <td>...</td>\n",
       "      <td>...</td>\n",
       "      <td>...</td>\n",
       "      <td>...</td>\n",
       "    </tr>\n",
       "    <tr>\n",
       "      <th>5744</th>\n",
       "      <td>10280</td>\n",
       "      <td>64564</td>\n",
       "      <td>2019-08-26 15:33:00</td>\n",
       "      <td>Stray</td>\n",
       "      <td>C19081412</td>\n",
       "      <td>Domestic Short Hair</td>\n",
       "      <td>Multi colours</td>\n",
       "      <td>Cat</td>\n",
       "      <td>3 years 0 months.</td>\n",
       "      <td>Female</td>\n",
       "      <td>Cat room C</td>\n",
       "      <td>2019-08-30</td>\n",
       "      <td>Reclaimed</td>\n",
       "      <td>3.352083</td>\n",
       "    </tr>\n",
       "    <tr>\n",
       "      <th>5745</th>\n",
       "      <td>10283</td>\n",
       "      <td>64574</td>\n",
       "      <td>2019-08-26 16:48:35</td>\n",
       "      <td>Litter relinquishment</td>\n",
       "      <td>C19081422</td>\n",
       "      <td>Domestic Short Hair</td>\n",
       "      <td>Multi colours</td>\n",
       "      <td>Cat</td>\n",
       "      <td>6 months.</td>\n",
       "      <td>Female</td>\n",
       "      <td>Adoptable Cat Glass Colony</td>\n",
       "      <td>2019-08-30</td>\n",
       "      <td>Adoption</td>\n",
       "      <td>3.299595</td>\n",
       "    </tr>\n",
       "    <tr>\n",
       "      <th>5746</th>\n",
       "      <td>10284</td>\n",
       "      <td>64582</td>\n",
       "      <td>2019-08-27 16:12:00</td>\n",
       "      <td>Allergies</td>\n",
       "      <td>C19081427</td>\n",
       "      <td>Domestic Short Hair</td>\n",
       "      <td>Grey</td>\n",
       "      <td>Cat</td>\n",
       "      <td>16 weeks.</td>\n",
       "      <td>Male</td>\n",
       "      <td>Adoptable Cat Kennels</td>\n",
       "      <td>2019-08-30</td>\n",
       "      <td>Adoption</td>\n",
       "      <td>2.325000</td>\n",
       "    </tr>\n",
       "    <tr>\n",
       "      <th>5747</th>\n",
       "      <td>10285</td>\n",
       "      <td>64584</td>\n",
       "      <td>2019-08-27 16:52:09</td>\n",
       "      <td>Litter relinquishment</td>\n",
       "      <td>C19081429</td>\n",
       "      <td>Domestic Medium Hair</td>\n",
       "      <td>White mix</td>\n",
       "      <td>Cat</td>\n",
       "      <td>21 weeks.</td>\n",
       "      <td>Male</td>\n",
       "      <td>Cat room C</td>\n",
       "      <td>2019-08-29</td>\n",
       "      <td>Adoption</td>\n",
       "      <td>1.297118</td>\n",
       "    </tr>\n",
       "    <tr>\n",
       "      <th>5748</th>\n",
       "      <td>10286</td>\n",
       "      <td>64588</td>\n",
       "      <td>2019-08-27 18:14:11</td>\n",
       "      <td>Stray</td>\n",
       "      <td>C19081418</td>\n",
       "      <td>Domestic Short Hair</td>\n",
       "      <td>Multi colours</td>\n",
       "      <td>Cat</td>\n",
       "      <td>6 weeks.</td>\n",
       "      <td>Female</td>\n",
       "      <td>Cat room C</td>\n",
       "      <td>2019-08-28</td>\n",
       "      <td>Foster</td>\n",
       "      <td>0.240150</td>\n",
       "    </tr>\n",
       "  </tbody>\n",
       "</table>\n",
       "<p>5749 rows × 14 columns</p>\n",
       "</div>"
      ],
      "text/plain": [
       "      Unnamed: 0     id          intakedate           intakereason  \\\n",
       "0              0  15801 2009-11-28 00:00:00                 Moving   \n",
       "1              3  30812 2013-01-11 00:00:00              Abandoned   \n",
       "2              4  30812 2013-01-11 00:00:00              Abandoned   \n",
       "3             12  46437 2016-10-26 00:00:00              Abandoned   \n",
       "4             13  46437 2016-10-26 00:00:00              Abandoned   \n",
       "...          ...    ...                 ...                    ...   \n",
       "5744       10280  64564 2019-08-26 15:33:00                  Stray   \n",
       "5745       10283  64574 2019-08-26 16:48:35  Litter relinquishment   \n",
       "5746       10284  64582 2019-08-27 16:12:00              Allergies   \n",
       "5747       10285  64584 2019-08-27 16:52:09  Litter relinquishment   \n",
       "5748       10286  64588 2019-08-27 18:14:11                  Stray   \n",
       "\n",
       "     sheltercode             breedname     basecolour speciesname  \\\n",
       "0      C09115463   Domestic Short Hair  Multi colours         Cat   \n",
       "1       C1301091   Domestic Short Hair  Multi colours         Cat   \n",
       "2       C1301091   Domestic Short Hair  Multi colours         Cat   \n",
       "3      C16103406    Domestic Long Hair          Black         Cat   \n",
       "4      C16103406    Domestic Long Hair          Black         Cat   \n",
       "...          ...                   ...            ...         ...   \n",
       "5744   C19081412   Domestic Short Hair  Multi colours         Cat   \n",
       "5745   C19081422   Domestic Short Hair  Multi colours         Cat   \n",
       "5746   C19081427   Domestic Short Hair           Grey         Cat   \n",
       "5747   C19081429  Domestic Medium Hair      White mix         Cat   \n",
       "5748   C19081418   Domestic Short Hair  Multi colours         Cat   \n",
       "\n",
       "               animalage sexname                    location movementdate  \\\n",
       "0      9 years 2 months.  Female  Adoptable Cat Glass Colony   2017-05-13   \n",
       "1     8 years 11 months.  Female                  Stray Cats   2017-04-18   \n",
       "2     8 years 11 months.  Female                  Stray Cats   2018-05-29   \n",
       "3     12 years 3 months.  Female                  Stray Cats   2017-03-25   \n",
       "4     12 years 3 months.  Female                  Stray Cats   2017-04-07   \n",
       "...                  ...     ...                         ...          ...   \n",
       "5744   3 years 0 months.  Female                  Cat room C   2019-08-30   \n",
       "5745           6 months.  Female  Adoptable Cat Glass Colony   2019-08-30   \n",
       "5746           16 weeks.    Male       Adoptable Cat Kennels   2019-08-30   \n",
       "5747           21 weeks.    Male                  Cat room C   2019-08-29   \n",
       "5748            6 weeks.  Female                  Cat room C   2019-08-28   \n",
       "\n",
       "     movementtype      difdays  \n",
       "0        Adoption  2723.000000  \n",
       "1          Foster  1558.000000  \n",
       "2        Adoption  1964.000000  \n",
       "3          Foster   150.000000  \n",
       "4        Adoption   163.000000  \n",
       "...           ...          ...  \n",
       "5744    Reclaimed     3.352083  \n",
       "5745     Adoption     3.299595  \n",
       "5746     Adoption     2.325000  \n",
       "5747     Adoption     1.297118  \n",
       "5748       Foster     0.240150  \n",
       "\n",
       "[5749 rows x 14 columns]"
      ]
     },
     "execution_count": 1,
     "metadata": {},
     "output_type": "execute_result"
    }
   ],
   "source": [
    "import warnings\n",
    "warnings.filterwarnings('ignore')\n",
    "\n",
    "# Import packages\n",
    "import numpy as np\n",
    "import pandas as pd\n",
    "import matplotlib.pyplot as plt \n",
    "import seaborn as sns\n",
    "\n",
    "# Read the CSV file into a dataframe\n",
    "df = pd.read_csv(\"Cats clean.csv\")\n",
    "# convert dates stored as strings into actual dates\n",
    "df[\"movementdate\"]=pd.to_datetime(df[\"movementdate\"])\n",
    "df[\"intakedate\"]=pd.to_datetime(df[\"intakedate\"])\n",
    "# add a column for the difference in days, aka how long the cat stayed at the shelter.\n",
    "df[\"difdays\"]=(df[\"movementdate\"]-df[\"intakedate\"])/np.timedelta64(1,'D')\n",
    "df"
   ]
  },
  {
   "cell_type": "markdown",
   "metadata": {
    "azdata_cell_guid": "d794ffe0-9cd3-4812-bc7d-f75460cf611c"
   },
   "source": [
    "## Find Correlations\n",
    "\n",
    "Use either pairplot or a heatmap or both to find the two variables with the strongest correlation in your dataset."
   ]
  },
  {
   "cell_type": "code",
   "execution_count": 2,
   "metadata": {
    "azdata_cell_guid": "b009376d-9eb1-4cf0-9487-f0ddc3dbc1cd"
   },
   "outputs": [
    {
     "data": {
      "image/png": "[encoded data removed]",
      "text/plain": [
       "<Figure size 432x288 with 2 Axes>"
      ]
     },
     "metadata": {
      "needs_background": "light"
     },
     "output_type": "display_data"
    }
   ],
   "source": [
    "# calculate the correlation values between the columns\n",
    "# used factorize() method to convert string values to numbers so corr() will work\n",
    "correlations=df.apply(lambda x: x.factorize()[0]).corr()\n",
    "# view correlation values in a heat map\n",
    "sns.heatmap(correlations, xticklabels=df.columns, yticklabels=df.columns, cmap=\"YlGnBu\", annot = True)\n",
    "plt.show()"
   ]
  },
  {
   "cell_type": "markdown",
   "metadata": {
    "azdata_cell_guid": "b75b6098-4152-4701-9136-a8f774c8583e"
   },
   "source": [
    "## Create Your Model\n",
    "\n",
    "Use the two columns with the strongest correlation to create and train your model. Make sure to print out the summary and plot the column values and the line produced by the model."
   ]
  },
  {
   "cell_type": "code",
   "execution_count": 3,
   "metadata": {
    "azdata_cell_guid": "f55fbe86-74b8-44f7-af96-7448e58983d7",
    "tags": []
   },
   "outputs": [
    {
     "data": {
      "text/plain": [
       "883       5.343414\n",
       "4060     -0.588194\n",
       "5498      3.277535\n",
       "1534     19.430532\n",
       "728      41.624213\n",
       "           ...    \n",
       "1890      9.308310\n",
       "350      54.499907\n",
       "79       10.000000\n",
       "3927    188.308634\n",
       "5640     11.338866\n",
       "Name: difdays, Length: 4024, dtype: float64"
      ]
     },
     "execution_count": 3,
     "metadata": {},
     "output_type": "execute_result"
    }
   ],
   "source": [
    "# set dependent and independent variables\n",
    "X = df['basecolour']\n",
    "y = df['difdays']\n",
    "# basecoulour is categorical data, so using get_dummies() method to convert it into numerical values\n",
    "X = pd.get_dummies(X)\n",
    "\n",
    "# import library to split data\n",
    "from sklearn.model_selection import train_test_split\n",
    "# split data into training and testing sets\n",
    "X_train, X_test, y_train, y_test = train_test_split(X, y, train_size = 0.7, \n",
    "                                                    test_size = 0.3, random_state = 100)\n",
    "# check what the training set looks like\n",
    "X_train\n",
    "y_train"
   ]
  },
  {
   "cell_type": "code",
   "execution_count": 4,
   "metadata": {},
   "outputs": [
    {
     "data": {
      "text/plain": [
       "const                         -4.351765e+13\n",
       "Black                          4.351765e+13\n",
       "Black and other colours mix    4.351765e+13\n",
       "Brown                          4.351765e+13\n",
       "Designer colors                4.351765e+13\n",
       "Grey                           4.351765e+13\n",
       "Multi colours                  4.351765e+13\n",
       "Orange                         4.351765e+13\n",
       "Points                         4.351765e+13\n",
       "White                          4.351765e+13\n",
       "White mix                      4.351765e+13\n",
       "dtype: float64"
      ]
     },
     "execution_count": 4,
     "metadata": {},
     "output_type": "execute_result"
    }
   ],
   "source": [
    "# import statsmodel so we can do linear regression\n",
    "import statsmodels.api as sm\n",
    "# statsmodel requires setting the constant/intercept value manually\n",
    "X_train_sm = sm.add_constant(X_train)\n",
    "# use the OLS and fit method to try to fit the line to the training data\n",
    "lr = sm.OLS(y_train, X_train_sm).fit()\n",
    "# check what the parameters look like\n",
    "lr.params"
   ]
  },
  {
   "cell_type": "code",
   "execution_count": 5,
   "metadata": {},
   "outputs": [
    {
     "data": {
      "text/html": [
       "<table class=\"simpletable\">\n",
       "<caption>OLS Regression Results</caption>\n",
       "<tr>\n",
       "  <th>Dep. Variable:</th>         <td>difdays</td>     <th>  R-squared:         </th> <td>   0.004</td> \n",
       "</tr>\n",
       "<tr>\n",
       "  <th>Model:</th>                   <td>OLS</td>       <th>  Adj. R-squared:    </th> <td>   0.001</td> \n",
       "</tr>\n",
       "<tr>\n",
       "  <th>Method:</th>             <td>Least Squares</td>  <th>  F-statistic:       </th> <td>   1.546</td> \n",
       "</tr>\n",
       "<tr>\n",
       "  <th>Date:</th>             <td>Sun, 06 Mar 2022</td> <th>  Prob (F-statistic):</th>  <td> 0.117</td>  \n",
       "</tr>\n",
       "<tr>\n",
       "  <th>Time:</th>                 <td>11:23:45</td>     <th>  Log-Likelihood:    </th> <td> -23524.</td> \n",
       "</tr>\n",
       "<tr>\n",
       "  <th>No. Observations:</th>      <td>  4024</td>      <th>  AIC:               </th> <td>4.707e+04</td>\n",
       "</tr>\n",
       "<tr>\n",
       "  <th>Df Residuals:</th>          <td>  4013</td>      <th>  BIC:               </th> <td>4.714e+04</td>\n",
       "</tr>\n",
       "<tr>\n",
       "  <th>Df Model:</th>              <td>    10</td>      <th>                     </th>     <td> </td>    \n",
       "</tr>\n",
       "<tr>\n",
       "  <th>Covariance Type:</th>      <td>nonrobust</td>    <th>                     </th>     <td> </td>    \n",
       "</tr>\n",
       "</table>\n",
       "<table class=\"simpletable\">\n",
       "<tr>\n",
       "               <td></td>                  <th>coef</th>     <th>std err</th>      <th>t</th>      <th>P>|t|</th>  <th>[0.025</th>    <th>0.975]</th>  \n",
       "</tr>\n",
       "<tr>\n",
       "  <th>const</th>                       <td>-4.352e+13</td> <td> 9.59e+13</td> <td>   -0.454</td> <td> 0.650</td> <td>-2.31e+14</td> <td> 1.44e+14</td>\n",
       "</tr>\n",
       "<tr>\n",
       "  <th>Black</th>                       <td> 4.352e+13</td> <td> 9.59e+13</td> <td>    0.454</td> <td> 0.650</td> <td>-1.44e+14</td> <td> 2.31e+14</td>\n",
       "</tr>\n",
       "<tr>\n",
       "  <th>Black and other colours mix</th> <td> 4.352e+13</td> <td> 9.59e+13</td> <td>    0.454</td> <td> 0.650</td> <td>-1.44e+14</td> <td> 2.31e+14</td>\n",
       "</tr>\n",
       "<tr>\n",
       "  <th>Brown</th>                       <td> 4.352e+13</td> <td> 9.59e+13</td> <td>    0.454</td> <td> 0.650</td> <td>-1.44e+14</td> <td> 2.31e+14</td>\n",
       "</tr>\n",
       "<tr>\n",
       "  <th>Designer colors</th>             <td> 4.352e+13</td> <td> 9.59e+13</td> <td>    0.454</td> <td> 0.650</td> <td>-1.44e+14</td> <td> 2.31e+14</td>\n",
       "</tr>\n",
       "<tr>\n",
       "  <th>Grey</th>                        <td> 4.352e+13</td> <td> 9.59e+13</td> <td>    0.454</td> <td> 0.650</td> <td>-1.44e+14</td> <td> 2.31e+14</td>\n",
       "</tr>\n",
       "<tr>\n",
       "  <th>Multi colours</th>               <td> 4.352e+13</td> <td> 9.59e+13</td> <td>    0.454</td> <td> 0.650</td> <td>-1.44e+14</td> <td> 2.31e+14</td>\n",
       "</tr>\n",
       "<tr>\n",
       "  <th>Orange</th>                      <td> 4.352e+13</td> <td> 9.59e+13</td> <td>    0.454</td> <td> 0.650</td> <td>-1.44e+14</td> <td> 2.31e+14</td>\n",
       "</tr>\n",
       "<tr>\n",
       "  <th>Points</th>                      <td> 4.352e+13</td> <td> 9.59e+13</td> <td>    0.454</td> <td> 0.650</td> <td>-1.44e+14</td> <td> 2.31e+14</td>\n",
       "</tr>\n",
       "<tr>\n",
       "  <th>White</th>                       <td> 4.352e+13</td> <td> 9.59e+13</td> <td>    0.454</td> <td> 0.650</td> <td>-1.44e+14</td> <td> 2.31e+14</td>\n",
       "</tr>\n",
       "<tr>\n",
       "  <th>White mix</th>                   <td> 4.352e+13</td> <td> 9.59e+13</td> <td>    0.454</td> <td> 0.650</td> <td>-1.44e+14</td> <td> 2.31e+14</td>\n",
       "</tr>\n",
       "</table>\n",
       "<table class=\"simpletable\">\n",
       "<tr>\n",
       "  <th>Omnibus:</th>       <td>7814.553</td> <th>  Durbin-Watson:     </th>   <td>   2.034</td>  \n",
       "</tr>\n",
       "<tr>\n",
       "  <th>Prob(Omnibus):</th>  <td> 0.000</td>  <th>  Jarque-Bera (JB):  </th> <td>22999036.449</td>\n",
       "</tr>\n",
       "<tr>\n",
       "  <th>Skew:</th>           <td>14.994</td>  <th>  Prob(JB):          </th>   <td>    0.00</td>  \n",
       "</tr>\n",
       "<tr>\n",
       "  <th>Kurtosis:</th>       <td>372.150</td> <th>  Cond. No.          </th>   <td>2.62e+14</td>  \n",
       "</tr>\n",
       "</table><br/><br/>Notes:<br/>[1] Standard Errors assume that the covariance matrix of the errors is correctly specified.<br/>[2] The smallest eigenvalue is 6.94e-26. This might indicate that there are<br/>strong multicollinearity problems or that the design matrix is singular."
      ],
      "text/plain": [
       "<class 'statsmodels.iolib.summary.Summary'>\n",
       "\"\"\"\n",
       "                            OLS Regression Results                            \n",
       "==============================================================================\n",
       "Dep. Variable:                difdays   R-squared:                       0.004\n",
       "Model:                            OLS   Adj. R-squared:                  0.001\n",
       "Method:                 Least Squares   F-statistic:                     1.546\n",
       "Date:                Sun, 06 Mar 2022   Prob (F-statistic):              0.117\n",
       "Time:                        11:23:45   Log-Likelihood:                -23524.\n",
       "No. Observations:                4024   AIC:                         4.707e+04\n",
       "Df Residuals:                    4013   BIC:                         4.714e+04\n",
       "Df Model:                          10                                         \n",
       "Covariance Type:            nonrobust                                         \n",
       "===============================================================================================\n",
       "                                  coef    std err          t      P>|t|      [0.025      0.975]\n",
       "-----------------------------------------------------------------------------------------------\n",
       "const                       -4.352e+13   9.59e+13     -0.454      0.650   -2.31e+14    1.44e+14\n",
       "Black                        4.352e+13   9.59e+13      0.454      0.650   -1.44e+14    2.31e+14\n",
       "Black and other colours mix  4.352e+13   9.59e+13      0.454      0.650   -1.44e+14    2.31e+14\n",
       "Brown                        4.352e+13   9.59e+13      0.454      0.650   -1.44e+14    2.31e+14\n",
       "Designer colors              4.352e+13   9.59e+13      0.454      0.650   -1.44e+14    2.31e+14\n",
       "Grey                         4.352e+13   9.59e+13      0.454      0.650   -1.44e+14    2.31e+14\n",
       "Multi colours                4.352e+13   9.59e+13      0.454      0.650   -1.44e+14    2.31e+14\n",
       "Orange                       4.352e+13   9.59e+13      0.454      0.650   -1.44e+14    2.31e+14\n",
       "Points                       4.352e+13   9.59e+13      0.454      0.650   -1.44e+14    2.31e+14\n",
       "White                        4.352e+13   9.59e+13      0.454      0.650   -1.44e+14    2.31e+14\n",
       "White mix                    4.352e+13   9.59e+13      0.454      0.650   -1.44e+14    2.31e+14\n",
       "==============================================================================\n",
       "Omnibus:                     7814.553   Durbin-Watson:                   2.034\n",
       "Prob(Omnibus):                  0.000   Jarque-Bera (JB):         22999036.449\n",
       "Skew:                          14.994   Prob(JB):                         0.00\n",
       "Kurtosis:                     372.150   Cond. No.                     2.62e+14\n",
       "==============================================================================\n",
       "\n",
       "Notes:\n",
       "[1] Standard Errors assume that the covariance matrix of the errors is correctly specified.\n",
       "[2] The smallest eigenvalue is 6.94e-26. This might indicate that there are\n",
       "strong multicollinearity problems or that the design matrix is singular.\n",
       "\"\"\""
      ]
     },
     "execution_count": 5,
     "metadata": {},
     "output_type": "execute_result"
    }
   ],
   "source": [
    "# print the summary so we can see the R-squared and p-values\n",
    "lr.summary()"
   ]
  },
  {
   "cell_type": "code",
   "execution_count": 6,
   "metadata": {},
   "outputs": [
    {
     "data": {
      "image/png": "[encoded data removed]",
      "text/plain": [
       "<Figure size 432x288 with 1 Axes>"
      ]
     },
     "metadata": {
      "needs_background": "light"
     },
     "output_type": "display_data"
    }
   ],
   "source": [
    "# make a scatter plot...not sure how to get it to use all of the X dummy columns, so just plotting the \"black\" column\n",
    "plt.scatter(X_train[\"Black\"], y_train)\n",
    "# plot the line given by the coefficient values above\n",
    "# ...they are ridiculous numbers because this data is not really suited for this analysis\n",
    "plt.plot(X_train[\"Black\"], -43520000000000 + 43520000000000*X_train[\"Black\"], 'r')\n",
    "# show the graph\n",
    "plt.show()"
   ]
  },
  {
   "cell_type": "markdown",
   "metadata": {
    "azdata_cell_guid": "c021f50d-92b2-4359-b3a9-c47f62f0a94f"
   },
   "source": [
    "## Error Terms\n",
    "\n",
    "Finally, plot your error terms!"
   ]
  },
  {
   "cell_type": "code",
   "execution_count": 7,
   "metadata": {
    "azdata_cell_guid": "87480c6c-1bb6-4135-953a-c74ba3da518d"
   },
   "outputs": [
    {
     "data": {
      "image/png": "[encoded data removed]",
      "text/plain": [
       "<Figure size 432x288 with 1 Axes>"
      ]
     },
     "metadata": {
      "needs_background": "light"
     },
     "output_type": "display_data"
    }
   ],
   "source": [
    "# use predict method\n",
    "y_train_pred = lr.predict(X_train_sm)\n",
    "# create 'residuals' used in next step\n",
    "res = (y_train - y_train_pred)\n",
    "# plot a distribution graph for our 'error terms'\n",
    "fig = plt.figure()\n",
    "sns.distplot(res, bins = 15)\n",
    "plt.title('Error Terms', fontsize = 15)\n",
    "plt.xlabel('y_train - y_train_pred', fontsize = 15)\n",
    "plt.show()"
   ]
  },
  {
   "cell_type": "markdown",
   "metadata": {
    "azdata_cell_guid": "5fc50d24-c873-4801-87f2-a1e518caf424"
   },
   "source": [
    "## Summarize Your Work\n",
    "\n",
    "Make notes of your answers to the questions below.\n",
    "\n",
    "1. What was your R-squared value? 0.004\n",
    "2. Based on your results, do you think a linear regression model was the best type of predictive analysis for your dataset? It was not particularly effective in this case. I dont think this was the right data set for linear regression model \n",
    "3. Was your plot of the error terms a bell curve? Not at all. "
   ]
  }
 ],
 "metadata": {
  "kernelspec": {
   "display_name": "Python 3 (ipykernel)",
   "language": "python",
   "name": "python3"
  },
  "language_info": {
   "codemirror_mode": {
    "name": "ipython",
    "version": 3
   },
   "file_extension": ".py",
   "mimetype": "text/x-python",
   "name": "python",
   "nbconvert_exporter": "python",
   "pygments_lexer": "ipython3",
   "version": "3.8.8"
  }
 },
 "nbformat": 4,
 "nbformat_minor": 2
}
